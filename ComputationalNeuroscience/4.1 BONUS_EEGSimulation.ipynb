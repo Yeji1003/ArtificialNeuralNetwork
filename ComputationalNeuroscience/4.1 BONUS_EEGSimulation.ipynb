{
 "cells": [
  {
   "cell_type": "markdown",
   "metadata": {},
   "source": [
    "![SegmentLocal](Images_StudIP/Logo2.png)"
   ]
  },
  {
   "cell_type": "markdown",
   "metadata": {},
   "source": [
    "*Neural Time Series Data*\n",
    "\n",
    "\n",
    "# 4.1 Bonus Exercise: EEG simulation"
   ]
  },
  {
   "cell_type": "code",
   "execution_count": null,
   "metadata": {},
   "outputs": [],
   "source": [
    "import random\n",
    "import numpy as np\n",
    "import matplotlib\n",
    "import matplotlib.pyplot as plt\n",
    "from scipy import signal as sig"
   ]
  },
  {
   "cell_type": "markdown",
   "metadata": {},
   "source": [
    "## Simulate 4-channel EEG signal\n",
    "\n",
    "\n",
    "\n",
    "\n",
    "<div class=\"alert alert-block alert-warning\">\n",
    "<b></b> This exercise sheet is optional! It is meant for those of you who did not get enough from creating artificial signals in the last sheet and want to create something more \"EEG-like\".</div> \n",
    "\n",
    "As an extension for the last exercise sheet, we will try to approximate an actual EEG signal. Although the EEG data of the next exercise sheet will be composed of 64 channels (since it stems from a real recording), we will stick with only 4 channels for simplicity. "
   ]
  },
  {
   "cell_type": "markdown",
   "metadata": {},
   "source": [
    "### 1.  Function for generating a simulated EEG-signal\n",
    "\n",
    "First of all, we will write a function that creates the signal for one channel, given a list of different frequencies and the total length of the signal (```signalLen```). \n",
    "Within this function:\n",
    "- First, define a time-window of 1 second (i.e. 1000 ms).\n",
    "- Define a list that assigns an amplitude to each element of ```frequencyList```: For this, randomly draw with replacement from a range between 0 and 30.  (Hint: you need as many amplitude-samples as number of elements in frequencyList, checkout [*```np.random.choice```*](https://het.as.utexas.edu/HET/Software/Numpy/reference/generated/numpy.random.choice.html)).\n",
    "- Create each signal component with the given frequency, amplitude and phase and then add them all up to a proper signal.\n",
    "- Also add a small Gaussian noise to the signal."
   ]
  },
  {
   "cell_type": "code",
   "execution_count": null,
   "metadata": {},
   "outputs": [],
   "source": [
    "def generate_Signal(frequencyList,signalLen=1000):\n",
    "\n",
    "    # time axis\n",
    "    t =\n",
    "    # define a list of amplitudes between 0 and 30 to randomly sample from\n",
    "    amplitude_list = \n",
    "    # define a list of different phases\n",
    "    phases_list = [np.pi/7, np.pi/8, np.pi, np.pi/2, -np.pi/4, np.pi/3]\n",
    "    # draw random samples form the lists of amplitudes and phases\n",
    "    amplitude = \n",
    "    phase = \n",
    "    \n",
    "    #create signal\n",
    "    for i in frequencyList:\n",
    "        # TODO\n",
    "\n",
    "        # add some random noise (gaussian distributed)\n",
    "\n",
    "\n",
    "    return signal"
   ]
  },
  {
   "cell_type": "markdown",
   "metadata": {},
   "source": [
    "### 2. Simulate and plot the signal of 4 different channels \n",
    "Once you wrote the function, use it to create 4 differnet signals (each representing a channel). To make it more realistic, we want our signals to be a random composition of the common EEG frequency-bands (which are already given below). \n",
    "- Create a dictionary that assigns the different frequency-bands (as values) to their name (e.g. 'delta': [1, 2, 3, 4])\n",
    "- Then create 4 signals (each representing one channel), with random combinations of these different frequency-bands. For this, draw 3 random samples of the different frequency-bands (stored in the dictionary as values) in order to create a list of frequencies for the ```generate_Signal``` function.  \n",
    "*Hint: just draw random samples from the dictionary keys (frequency names) and then use them to create the signal from the respective values (frequencies)*. \n",
    "- Lastly, plot the 4 different signals. In order to make them comparable, make sure to have the same scaling on each of the axes.\n",
    "- If you want to use the names of the frequency-bands which were used to compose each signal as title for your plots, it is useful to create another dictionary ```signal_dict``` that assigns each signal to the list of frequency names it is composed of.  I.e. for each channel it stores the frequency bands as names and the corresponding signal as an array, e.g. {['delta', 'beta1', 'alpha']: array([..*many many numbers*....])}  \n",
    "*Hint: have a look at the function [```repr()```](https://www.programiz.com/python-programming/methods/built-in/repr) in order to use a list of strings as dictionary-keys.*"
   ]
  },
  {
   "cell_type": "code",
   "execution_count": null,
   "metadata": {},
   "outputs": [],
   "source": [
    "delta = list(range(1,5)) # i.e. 1-4\n",
    "theta = list(range(5,8)) # i.e. 5-7\n",
    "alpha = list(range(8,13)) #....\n",
    "beta1 = list(range(13,21))\n",
    "beta2 = list(range(21,29))\n",
    "gamma = list(range(29,51))\n",
    "\n",
    "# create a dictionary assigning all the frequency bands to their names\n",
    "frexlist_dict = {'delta':delta, 'theta':theta, 'alpha':alpha, 'beta1': beta1, 'beta2':beta2, 'gamma': gamma}"
   ]
  },
  {
   "cell_type": "code",
   "execution_count": null,
   "metadata": {
    "code_folding": [],
    "scrolled": true
   },
   "outputs": [],
   "source": [
    "# 1. Create 4 signals for each channel, with random frequency combinations\n",
    "\n",
    "# Optional: Create an empty dictiary that later assigns each signal to the names of frequencies it is composed of \n",
    "signal_dict = {}\n",
    "\n",
    "for i in range(4):\n",
    "    # In order to create a single signal:\n",
    "    \n",
    "    # 1.1. draw random samples from dictionary of all frequency-bands\n",
    "    \n",
    "    # 1.2. Sum all frequency-bands to create a list of frequencies needed for generate_Signal()\n",
    "   \n",
    "    # 1.3. Create signal with generate_Signal()\n",
    "    \n",
    "    # 1.4. Add some random noise\n",
    "    \n",
    "    # 1.5. Update signal-dictionary such that each signal gets assigned the names of frequencies it is composed of\n",
    "\n",
    "# 2. Plot all channels\n"
   ]
  },
  {
   "cell_type": "markdown",
   "metadata": {},
   "source": [
    "### 3. Check out frequency-representation of each channel"
   ]
  },
  {
   "cell_type": "markdown",
   "metadata": {},
   "source": [
    "Below, I simply copy-pasted the Fourier-Transform function ```getFT``` that we used in the last exercise sheet (\"4.2 Simple Signals\"). With this, we can now plot the frequency-representation of all our signals. Now it is really useful if you know for each signal which frequencies were used to compose it. So if you created the dictionary ```signal_dict``` above, you can now use this information to properly designate your plots. "
   ]
  },
  {
   "cell_type": "code",
   "execution_count": null,
   "metadata": {},
   "outputs": [],
   "source": [
    "def getFT(sig):\n",
    "\n",
    "    # compute fft\n",
    "    FFT = np.fft.fft(sig)\n",
    "    FFT = np.abs(FFT)\n",
    "    \n",
    "    return FFT"
   ]
  },
  {
   "cell_type": "code",
   "execution_count": 3,
   "metadata": {},
   "outputs": [],
   "source": [
    "# Compute and plot FT of all signals\n"
   ]
  },
  {
   "cell_type": "markdown",
   "metadata": {},
   "source": [
    "### 4. Power-Spectrogram\n",
    "In order to extract some temporal information about our frequency components, compute and plot a nice and colorful power-spectogram of our signals, using the function [```plt.specgram()```](https://matplotlib.org/3.1.1/api/_as_gen/matplotlib.pyplot.specgram.html)."
   ]
  },
  {
   "cell_type": "code",
   "execution_count": null,
   "metadata": {},
   "outputs": [],
   "source": [
    "# Plot Spectrogram of all signals\n"
   ]
  }
 ],
 "metadata": {
  "kernelspec": {
   "display_name": "Python 3",
   "language": "python",
   "name": "python3"
  },
  "language_info": {
   "codemirror_mode": {
    "name": "ipython",
    "version": 3
   },
   "file_extension": ".py",
   "mimetype": "text/x-python",
   "name": "python",
   "nbconvert_exporter": "python",
   "pygments_lexer": "ipython3",
   "version": "3.6.7"
  },
  "toc": {
   "base_numbering": 1,
   "nav_menu": {},
   "number_sections": false,
   "sideBar": true,
   "skip_h1_title": true,
   "title_cell": "Table of Contents",
   "title_sidebar": "Contents",
   "toc_cell": false,
   "toc_position": {},
   "toc_section_display": true,
   "toc_window_display": true
  }
 },
 "nbformat": 4,
 "nbformat_minor": 4
}
