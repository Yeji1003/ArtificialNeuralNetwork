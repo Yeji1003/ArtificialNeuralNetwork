{
 "cells": [
  {
   "cell_type": "markdown",
   "metadata": {},
   "source": [
    "![SegmentLocal](Images_StudIP/Logo2.png)"
   ]
  },
  {
   "cell_type": "markdown",
   "metadata": {},
   "source": [
    "*Behavioral Data*\n",
    "\n",
    "\n",
    "# Chapter 2.2: Statistical Analysis of behavioral data\n",
    "\n",
    "<div class=\"alert alert-block alert-warning\">\n",
    "Make sure that you also downloaded the current version of the folder <b>Jupyter Notebooks ACC/Images_StudIP</b>, otherwise some of the descriptions will be incomplete.\n",
    "</div>"
   ]
  },
  {
   "cell_type": "code",
   "execution_count": 1,
   "metadata": {},
   "outputs": [],
   "source": [
    "import numpy as np\n",
    "import pandas as pd\n",
    "import researchpy as rp\n",
    "import statsmodels.api as sm\n",
    "import matplotlib.pyplot as plt\n",
    "\n",
    "from scipy import stats\n",
    "from statsmodels.stats.anova import AnovaRM"
   ]
  },
  {
   "cell_type": "markdown",
   "metadata": {},
   "source": [
    "### Loading the preprocessed behavioral dataset\n"
   ]
  },
  {
   "cell_type": "code",
   "execution_count": 2,
   "metadata": {},
   "outputs": [],
   "source": [
    "# Load behavioral dataset\n",
    "df = pd.read_csv(\"behavioral_data_preprocessed.csv\")"
   ]
  },
  {
   "cell_type": "code",
   "execution_count": 3,
   "metadata": {},
   "outputs": [
    {
     "data": {
      "text/html": [
       "<div>\n",
       "<style scoped>\n",
       "    .dataframe tbody tr th:only-of-type {\n",
       "        vertical-align: middle;\n",
       "    }\n",
       "\n",
       "    .dataframe tbody tr th {\n",
       "        vertical-align: top;\n",
       "    }\n",
       "\n",
       "    .dataframe thead th {\n",
       "        text-align: right;\n",
       "    }\n",
       "</style>\n",
       "<table border=\"1\" class=\"dataframe\">\n",
       "  <thead>\n",
       "    <tr style=\"text-align: right;\">\n",
       "      <th></th>\n",
       "      <th>subject_ID</th>\n",
       "      <th>target</th>\n",
       "      <th>position</th>\n",
       "      <th>answer_position</th>\n",
       "      <th>time</th>\n",
       "      <th>answer</th>\n",
       "      <th>feedback</th>\n",
       "      <th>trial</th>\n",
       "      <th>condition</th>\n",
       "      <th>block</th>\n",
       "      <th>change</th>\n",
       "      <th>group</th>\n",
       "      <th>task</th>\n",
       "    </tr>\n",
       "  </thead>\n",
       "  <tbody>\n",
       "    <tr>\n",
       "      <th>0</th>\n",
       "      <td>0</td>\n",
       "      <td>46</td>\n",
       "      <td>2</td>\n",
       "      <td>2</td>\n",
       "      <td>1.295453</td>\n",
       "      <td>1</td>\n",
       "      <td>0.00</td>\n",
       "      <td>1</td>\n",
       "      <td>comp</td>\n",
       "      <td>1</td>\n",
       "      <td>15.0</td>\n",
       "      <td>434</td>\n",
       "      <td>player_ori</td>\n",
       "    </tr>\n",
       "    <tr>\n",
       "      <th>1</th>\n",
       "      <td>0</td>\n",
       "      <td>29</td>\n",
       "      <td>1</td>\n",
       "      <td>2</td>\n",
       "      <td>1.185209</td>\n",
       "      <td>0</td>\n",
       "      <td>0.00</td>\n",
       "      <td>2</td>\n",
       "      <td>comp</td>\n",
       "      <td>1</td>\n",
       "      <td>15.0</td>\n",
       "      <td>434</td>\n",
       "      <td>player_ori</td>\n",
       "    </tr>\n",
       "    <tr>\n",
       "      <th>2</th>\n",
       "      <td>0</td>\n",
       "      <td>48</td>\n",
       "      <td>0</td>\n",
       "      <td>0</td>\n",
       "      <td>0.729091</td>\n",
       "      <td>1</td>\n",
       "      <td>0.05</td>\n",
       "      <td>3</td>\n",
       "      <td>comp</td>\n",
       "      <td>1</td>\n",
       "      <td>15.0</td>\n",
       "      <td>434</td>\n",
       "      <td>player_ori</td>\n",
       "    </tr>\n",
       "    <tr>\n",
       "      <th>3</th>\n",
       "      <td>0</td>\n",
       "      <td>120</td>\n",
       "      <td>3</td>\n",
       "      <td>3</td>\n",
       "      <td>1.206738</td>\n",
       "      <td>1</td>\n",
       "      <td>0.00</td>\n",
       "      <td>4</td>\n",
       "      <td>comp</td>\n",
       "      <td>1</td>\n",
       "      <td>15.0</td>\n",
       "      <td>434</td>\n",
       "      <td>player_ori</td>\n",
       "    </tr>\n",
       "    <tr>\n",
       "      <th>4</th>\n",
       "      <td>0</td>\n",
       "      <td>48</td>\n",
       "      <td>0</td>\n",
       "      <td>2</td>\n",
       "      <td>1.282198</td>\n",
       "      <td>0</td>\n",
       "      <td>-0.05</td>\n",
       "      <td>5</td>\n",
       "      <td>comp</td>\n",
       "      <td>1</td>\n",
       "      <td>15.0</td>\n",
       "      <td>434</td>\n",
       "      <td>player_ori</td>\n",
       "    </tr>\n",
       "  </tbody>\n",
       "</table>\n",
       "</div>"
      ],
      "text/plain": [
       "   subject_ID  target  position  answer_position      time  answer  feedback  \\\n",
       "0           0      46         2                2  1.295453       1      0.00   \n",
       "1           0      29         1                2  1.185209       0      0.00   \n",
       "2           0      48         0                0  0.729091       1      0.05   \n",
       "3           0     120         3                3  1.206738       1      0.00   \n",
       "4           0      48         0                2  1.282198       0     -0.05   \n",
       "\n",
       "   trial condition  block  change  group        task  \n",
       "0      1      comp      1    15.0    434  player_ori  \n",
       "1      2      comp      1    15.0    434  player_ori  \n",
       "2      3      comp      1    15.0    434  player_ori  \n",
       "3      4      comp      1    15.0    434  player_ori  \n",
       "4      5      comp      1    15.0    434  player_ori  "
      ]
     },
     "execution_count": 3,
     "metadata": {},
     "output_type": "execute_result"
    }
   ],
   "source": [
    "# Take a look at the head of the data frame\n",
    "df.head()"
   ]
  },
  {
   "cell_type": "code",
   "execution_count": 41,
   "metadata": {},
   "outputs": [],
   "source": [
    "# For all statistical tests we assume alpha = 0.05\n",
    "alpha = 0.05\n",
    "\n",
    "# TODO: Filter for competitive trials\n",
    "df_comp = df[df['condition'] == 'comp']\n",
    "\n",
    "# TODO: Calculate the mean response times per subject per task\n",
    "rt_task = df_comp.groupby(['subject_ID','task'], as_index = False)['time'].mean()\n",
    "\n",
    "# TODO: Create 2 dataframes, one for the data of the orientation discrimination task,\n",
    "#       one for the data of the spatial discrimination task\n",
    "rt_task_ori = rt_task[rt_task['task'] == 'player_ori']\n",
    "rt_task_spa = rt_task[rt_task['task'] == 'player_spatial']"
   ]
  },
  {
   "cell_type": "markdown",
   "metadata": {},
   "source": [
    "### Student's T-value"
   ]
  },
  {
   "cell_type": "code",
   "execution_count": 69,
   "metadata": {},
   "outputs": [
    {
     "data": {
      "image/png": "[encoded data removed]",
      "text/plain": [
       "<Figure size 1080x360 with 2 Axes>"
      ]
     },
     "metadata": {
      "needs_background": "light"
     },
     "output_type": "display_data"
    },
    {
     "name": "stdout",
     "output_type": "stream",
     "text": [
      "stat_o=0.903, p_o=0.022\n",
      "Probably not Gaussian\n",
      "stat_s=0.977, p_s=0.823\n",
      "Probably Gaussian\n"
     ]
    }
   ],
   "source": [
    "# TODO: Create QQ-plots for the response times\n",
    "fig, axes = plt.subplots(1, 2, figsize = (15,5))\n",
    "sm.qqplot(rt_task_ori['time'], line = 'r', ax = axes[0])\n",
    "sm.qqplot(rt_task_spa['time'], line = 'r', ax = axes[1])\n",
    "axes[0].set(title = 'QQ-plot for orientation discrimination task')\n",
    "axes[1].set(title = 'QQ-plot for spatial discrimination task')\n",
    "\n",
    "plt.show()\n",
    "\n",
    "# TODO: Perform Shapiro-Wilk normality tests\n",
    "    \n",
    "stat_o, p_o = stats.shapiro(rt_task_ori['time'])\n",
    "\n",
    "print('stat_o={:0.3f}, p_o={:0.3f}'.format(stat_o, p_o))\n",
    "if p_o > alpha:\n",
    "    print('Probably Gaussian')\n",
    "else:\n",
    "    print('Probably not Gaussian')\n",
    "    \n",
    "    \n",
    "stat_s, p_s = stats.shapiro(rt_task_spa['time'])\n",
    "\n",
    "print('stat_s={:0.3f}, p_s={:0.3f}'.format(stat_s, p_s))\n",
    "if p_s > alpha:\n",
    "    print('Probably Gaussian')\n",
    "else:\n",
    "    print('Probably not Gaussian')\n"
   ]
  },
  {
   "cell_type": "code",
   "execution_count": 72,
   "metadata": {},
   "outputs": [
    {
     "name": "stdout",
     "output_type": "stream",
     "text": [
      "test statistic is 0.206, p-value is 0.652\n",
      "it seems all samples come from populations with equal variances\n"
     ]
    }
   ],
   "source": [
    "# TODO: Perform a Levene’s test for homogeneity of variance\n",
    "test_statistic, p_value = stats.levene(rt_task_ori['time'], rt_task_spa['time'])\n",
    "\n",
    "print('test statistic is {:0.3f}, p-value is {:0.3f}'.format(test_statistic, p_value))\n",
    "if p_value > alpha:\n",
    "    print('it seems all samples come from populations with equal variances')\n",
    "else:\n",
    "    print(\"it doesn't seem all samples come from populations with equal variances\")"
   ]
  },
  {
   "cell_type": "code",
   "execution_count": 75,
   "metadata": {},
   "outputs": [],
   "source": [
    "# TODO: Perform a student's t-test\n",
    "ttest = rp.ttest(rt_task_ori['time'], rt_task_spa['time'])"
   ]
  },
  {
   "cell_type": "code",
   "execution_count": 76,
   "metadata": {},
   "outputs": [
    {
     "data": {
      "text/html": [
       "<div>\n",
       "<style scoped>\n",
       "    .dataframe tbody tr th:only-of-type {\n",
       "        vertical-align: middle;\n",
       "    }\n",
       "\n",
       "    .dataframe tbody tr th {\n",
       "        vertical-align: top;\n",
       "    }\n",
       "\n",
       "    .dataframe thead th {\n",
       "        text-align: right;\n",
       "    }\n",
       "</style>\n",
       "<table border=\"1\" class=\"dataframe\">\n",
       "  <thead>\n",
       "    <tr style=\"text-align: right;\">\n",
       "      <th></th>\n",
       "      <th>Variable</th>\n",
       "      <th>N</th>\n",
       "      <th>Mean</th>\n",
       "      <th>SD</th>\n",
       "      <th>SE</th>\n",
       "      <th>95% Conf.</th>\n",
       "      <th>Interval</th>\n",
       "    </tr>\n",
       "  </thead>\n",
       "  <tbody>\n",
       "    <tr>\n",
       "      <th>0</th>\n",
       "      <td>time</td>\n",
       "      <td>25.0</td>\n",
       "      <td>1.355600</td>\n",
       "      <td>0.303658</td>\n",
       "      <td>0.060732</td>\n",
       "      <td>1.230256</td>\n",
       "      <td>1.480944</td>\n",
       "    </tr>\n",
       "    <tr>\n",
       "      <th>1</th>\n",
       "      <td>time</td>\n",
       "      <td>25.0</td>\n",
       "      <td>1.274744</td>\n",
       "      <td>0.300876</td>\n",
       "      <td>0.060175</td>\n",
       "      <td>1.150548</td>\n",
       "      <td>1.398939</td>\n",
       "    </tr>\n",
       "    <tr>\n",
       "      <th>2</th>\n",
       "      <td>combined</td>\n",
       "      <td>50.0</td>\n",
       "      <td>1.315172</td>\n",
       "      <td>0.301944</td>\n",
       "      <td>0.042701</td>\n",
       "      <td>1.229360</td>\n",
       "      <td>1.400984</td>\n",
       "    </tr>\n",
       "  </tbody>\n",
       "</table>\n",
       "</div>"
      ],
      "text/plain": [
       "   Variable     N      Mean        SD        SE  95% Conf.  Interval\n",
       "0      time  25.0  1.355600  0.303658  0.060732   1.230256  1.480944\n",
       "1      time  25.0  1.274744  0.300876  0.060175   1.150548  1.398939\n",
       "2  combined  50.0  1.315172  0.301944  0.042701   1.229360  1.400984"
      ]
     },
     "execution_count": 76,
     "metadata": {},
     "output_type": "execute_result"
    }
   ],
   "source": [
    "# TODO: Print the summary statistics\n",
    "ttest[0]"
   ]
  },
  {
   "cell_type": "code",
   "execution_count": 77,
   "metadata": {},
   "outputs": [
    {
     "data": {
      "text/html": [
       "<div>\n",
       "<style scoped>\n",
       "    .dataframe tbody tr th:only-of-type {\n",
       "        vertical-align: middle;\n",
       "    }\n",
       "\n",
       "    .dataframe tbody tr th {\n",
       "        vertical-align: top;\n",
       "    }\n",
       "\n",
       "    .dataframe thead th {\n",
       "        text-align: right;\n",
       "    }\n",
       "</style>\n",
       "<table border=\"1\" class=\"dataframe\">\n",
       "  <thead>\n",
       "    <tr style=\"text-align: right;\">\n",
       "      <th></th>\n",
       "      <th>Independent t-test</th>\n",
       "      <th>results</th>\n",
       "    </tr>\n",
       "  </thead>\n",
       "  <tbody>\n",
       "    <tr>\n",
       "      <th>0</th>\n",
       "      <td>Difference (time - time) =</td>\n",
       "      <td>0.0809</td>\n",
       "    </tr>\n",
       "    <tr>\n",
       "      <th>1</th>\n",
       "      <td>Degrees of freedom =</td>\n",
       "      <td>48.0000</td>\n",
       "    </tr>\n",
       "    <tr>\n",
       "      <th>2</th>\n",
       "      <td>t =</td>\n",
       "      <td>0.9457</td>\n",
       "    </tr>\n",
       "    <tr>\n",
       "      <th>3</th>\n",
       "      <td>Two side test p value =</td>\n",
       "      <td>0.3490</td>\n",
       "    </tr>\n",
       "    <tr>\n",
       "      <th>4</th>\n",
       "      <td>Difference &lt; 0 p value =</td>\n",
       "      <td>0.8255</td>\n",
       "    </tr>\n",
       "    <tr>\n",
       "      <th>5</th>\n",
       "      <td>Difference &gt; 0 p value =</td>\n",
       "      <td>0.1745</td>\n",
       "    </tr>\n",
       "    <tr>\n",
       "      <th>6</th>\n",
       "      <td>Cohen's d =</td>\n",
       "      <td>0.2675</td>\n",
       "    </tr>\n",
       "    <tr>\n",
       "      <th>7</th>\n",
       "      <td>Hedge's g =</td>\n",
       "      <td>0.2633</td>\n",
       "    </tr>\n",
       "    <tr>\n",
       "      <th>8</th>\n",
       "      <td>Glass's delta =</td>\n",
       "      <td>0.2663</td>\n",
       "    </tr>\n",
       "    <tr>\n",
       "      <th>9</th>\n",
       "      <td>r =</td>\n",
       "      <td>0.1353</td>\n",
       "    </tr>\n",
       "  </tbody>\n",
       "</table>\n",
       "</div>"
      ],
      "text/plain": [
       "            Independent t-test  results\n",
       "0  Difference (time - time) =    0.0809\n",
       "1        Degrees of freedom =   48.0000\n",
       "2                         t =    0.9457\n",
       "3     Two side test p value =    0.3490\n",
       "4    Difference < 0 p value =    0.8255\n",
       "5    Difference > 0 p value =    0.1745\n",
       "6                 Cohen's d =    0.2675\n",
       "7                 Hedge's g =    0.2633\n",
       "8             Glass's delta =    0.2663\n",
       "9                         r =    0.1353"
      ]
     },
     "execution_count": 77,
     "metadata": {},
     "output_type": "execute_result"
    }
   ],
   "source": [
    "# TODO: Print the test results\n",
    "ttest[1]"
   ]
  },
  {
   "cell_type": "markdown",
   "metadata": {},
   "source": [
    "### Two-way repeated measures ANOVA\n"
   ]
  },
  {
   "cell_type": "code",
   "execution_count": 89,
   "metadata": {},
   "outputs": [
    {
     "name": "stdout",
     "output_type": "stream",
     "text": [
      "    subject_ID  answer condition      time\n",
      "0           25       0      comp  1.511960\n",
      "1           25       0      coop  1.542155\n",
      "2           25       1      comp  1.112387\n",
      "3           25       1      coop  1.152606\n",
      "4           26       0      comp  1.372130\n",
      "..         ...     ...       ...       ...\n",
      "95          48       1      coop  1.360336\n",
      "96          49       0      comp  1.355175\n",
      "97          49       0      coop  1.446672\n",
      "98          49       1      comp  1.347699\n",
      "99          49       1      coop  1.400925\n",
      "\n",
      "[100 rows x 4 columns]\n"
     ]
    }
   ],
   "source": [
    "# For all statistical tests we assume alpha = 0.05\n",
    "alpha = 0.05\n",
    "\n",
    "# TODO: Filter for spatial discrimination tasks\n",
    "player_spatial = df[df['task'] == 'player_spatial']\n",
    "\n",
    "# TODO: Calculate the mean response times per subject, answer and condition\n",
    "spatial_sorted = player_spatial.groupby(['subject_ID', 'answer', 'condition'], as_index = False)['time'].mean()\n",
    "print(spatial_sorted)\n"
   ]
  },
  {
   "cell_type": "code",
   "execution_count": 117,
   "metadata": {},
   "outputs": [
    {
     "ename": "AttributeError",
     "evalue": "'numpy.float64' object has no attribute 'shapiro'",
     "output_type": "error",
     "traceback": [
      "\u001b[1;31m---------------------------------------------------------------------------\u001b[0m",
      "\u001b[1;31mAttributeError\u001b[0m                            Traceback (most recent call last)",
      "\u001b[1;32m<ipython-input-117-f861e060e5a8>\u001b[0m in \u001b[0;36m<module>\u001b[1;34m\u001b[0m\n\u001b[0;32m     11\u001b[0m \u001b[1;33m\u001b[0m\u001b[0m\n\u001b[0;32m     12\u001b[0m \u001b[1;32mfor\u001b[0m \u001b[0mi\u001b[0m \u001b[1;32min\u001b[0m \u001b[0mrange\u001b[0m\u001b[1;33m(\u001b[0m\u001b[0mlen\u001b[0m\u001b[1;33m(\u001b[0m\u001b[0mgroups\u001b[0m\u001b[1;33m)\u001b[0m\u001b[1;33m)\u001b[0m\u001b[1;33m:\u001b[0m\u001b[1;33m\u001b[0m\u001b[1;33m\u001b[0m\u001b[0m\n\u001b[1;32m---> 13\u001b[1;33m     \u001b[0mst\u001b[0m\u001b[1;33m,\u001b[0m \u001b[0mp\u001b[0m \u001b[1;33m=\u001b[0m \u001b[0mstats\u001b[0m\u001b[1;33m.\u001b[0m\u001b[0mshapiro\u001b[0m\u001b[1;33m(\u001b[0m\u001b[0mgroups\u001b[0m\u001b[1;33m[\u001b[0m\u001b[0mi\u001b[0m\u001b[1;33m]\u001b[0m\u001b[1;33m)\u001b[0m\u001b[1;33m\u001b[0m\u001b[1;33m\u001b[0m\u001b[0m\n\u001b[0m\u001b[0;32m     14\u001b[0m     \u001b[0mprint\u001b[0m\u001b[1;33m(\u001b[0m\u001b[1;34m'{}: stat: {:0.3f}, p: {:0.3f}.'\u001b[0m\u001b[1;33m.\u001b[0m\u001b[0mformat\u001b[0m\u001b[1;33m(\u001b[0m\u001b[0mnames\u001b[0m\u001b[1;33m[\u001b[0m\u001b[0mi\u001b[0m\u001b[1;33m]\u001b[0m\u001b[1;33m,\u001b[0m \u001b[0ms\u001b[0m\u001b[1;33m,\u001b[0m \u001b[0mp\u001b[0m\u001b[1;33m)\u001b[0m\u001b[1;33m)\u001b[0m\u001b[1;33m\u001b[0m\u001b[1;33m\u001b[0m\u001b[0m\n\u001b[0;32m     15\u001b[0m     \u001b[1;32mif\u001b[0m \u001b[0mp\u001b[0m \u001b[1;33m>\u001b[0m \u001b[0malpha\u001b[0m\u001b[1;33m:\u001b[0m\u001b[1;33m\u001b[0m\u001b[1;33m\u001b[0m\u001b[0m\n",
      "\u001b[1;31mAttributeError\u001b[0m: 'numpy.float64' object has no attribute 'shapiro'"
     ]
    }
   ],
   "source": [
    "# TODO: Create 4 dataframes (competitive-correct, competitive-incorrect, \n",
    "#                            cooperative-correct, cooperative-incorrect)\n",
    "comp_cor = spatial_sorted[(spatial_sorted['condition'] == 'comp') & (spatial_sorted['answer'] == 1)]\n",
    "comp_inc = spatial_sorted[(spatial_sorted['condition'] == 'comp') & (spatial_sorted['answer'] == 0)]\n",
    "coop_cor = spatial_sorted[(spatial_sorted['condition'] == 'coop') & (spatial_sorted['answer'] == 1)]\n",
    "coop_inc = spatial_sorted[(spatial_sorted['condition'] == 'coop') & (spatial_sorted['answer'] == 0)]\n",
    "\n",
    "# TODO: Perform a Shapiro-Wilk normality test for each group\n",
    "groups = [comp_cor['time'], comp_inc['time'], coop_cor['time'], coop_inc['time']]\n",
    "names = ['comp_cor', 'comp_cor', 'comp_cor', 'comp_cor']\n",
    "\n",
    "for i in range(len(groups)):\n",
    "    st, p = stats.shapiro(groups[i])\n",
    "    print('{}: stat: {:0.3f}, p: {:0.3f}.'.format(names[i], s, p))\n",
    "    if p > alpha:\n",
    "        print('Probably Gaussian')\n",
    "    else:\n",
    "        print('Probably not Gaussian') "
   ]
  },
  {
   "cell_type": "code",
   "execution_count": 119,
   "metadata": {},
   "outputs": [
    {
     "ename": "AttributeError",
     "evalue": "'numpy.float64' object has no attribute 'levene'",
     "output_type": "error",
     "traceback": [
      "\u001b[1;31m---------------------------------------------------------------------------\u001b[0m",
      "\u001b[1;31mAttributeError\u001b[0m                            Traceback (most recent call last)",
      "\u001b[1;32m<ipython-input-119-4f7ae7df9ef1>\u001b[0m in \u001b[0;36m<module>\u001b[1;34m\u001b[0m\n\u001b[0;32m      6\u001b[0m \u001b[1;33m\u001b[0m\u001b[0m\n\u001b[0;32m      7\u001b[0m \u001b[1;31m# TODO: Calculate the differences between all combinations and test it via Levene's test\u001b[0m\u001b[1;33m\u001b[0m\u001b[1;33m\u001b[0m\u001b[1;33m\u001b[0m\u001b[0m\n\u001b[1;32m----> 8\u001b[1;33m \u001b[0mstat\u001b[0m\u001b[1;33m,\u001b[0m \u001b[0mp\u001b[0m \u001b[1;33m=\u001b[0m \u001b[0mstats\u001b[0m\u001b[1;33m.\u001b[0m\u001b[0mlevene\u001b[0m\u001b[1;33m(\u001b[0m\u001b[0mcpc\u001b[0m\u001b[1;33m-\u001b[0m\u001b[0mcpi\u001b[0m\u001b[1;33m,\u001b[0m \u001b[0mcpc\u001b[0m\u001b[1;33m-\u001b[0m\u001b[0mcoc\u001b[0m\u001b[1;33m,\u001b[0m \u001b[0mcpc\u001b[0m\u001b[1;33m-\u001b[0m\u001b[0mcoi\u001b[0m\u001b[1;33m,\u001b[0m \u001b[0mcpi\u001b[0m\u001b[1;33m-\u001b[0m\u001b[0mcoc\u001b[0m\u001b[1;33m,\u001b[0m \u001b[0mcpi\u001b[0m\u001b[1;33m-\u001b[0m\u001b[0mcoi\u001b[0m\u001b[1;33m,\u001b[0m \u001b[0mcoc\u001b[0m\u001b[1;33m-\u001b[0m\u001b[0mcoi\u001b[0m\u001b[1;33m)\u001b[0m\u001b[1;33m\u001b[0m\u001b[1;33m\u001b[0m\u001b[0m\n\u001b[0m\u001b[0;32m      9\u001b[0m \u001b[0mprint\u001b[0m\u001b[1;33m(\u001b[0m\u001b[1;34m'statistic: {:0.3f}, p-value: {:0.3f}'\u001b[0m\u001b[1;33m.\u001b[0m\u001b[0mformat\u001b[0m\u001b[1;33m(\u001b[0m\u001b[0mstat\u001b[0m\u001b[1;33m,\u001b[0m \u001b[0mp\u001b[0m\u001b[1;33m)\u001b[0m\u001b[1;33m)\u001b[0m\u001b[1;33m\u001b[0m\u001b[1;33m\u001b[0m\u001b[0m\n\u001b[0;32m     10\u001b[0m \u001b[1;33m\u001b[0m\u001b[0m\n",
      "\u001b[1;31mAttributeError\u001b[0m: 'numpy.float64' object has no attribute 'levene'"
     ]
    }
   ],
   "source": [
    "# TODO: Extract the response times\n",
    "cpc = comp_cor['time'].to_numpy()\n",
    "cpi = comp_inc['time'].to_numpy()\n",
    "coc = coop_cor['time'].to_numpy()\n",
    "coi = comp_inc['time'].to_numpy()\n",
    "\n",
    "# TODO: Calculate the differences between all combinations and test it via Levene's test\n",
    "stat, p = stats.levene(cpc-cpi, cpc-coc, cpc-coi, cpi-coc, cpi-coi, coc-coi)\n",
    "print('statistic: {:0.3f}, p-value: {:0.3f}'.format(stat, p))\n",
    "\n",
    "if p > alpha:\n",
    "    print('Sphericity is probably given')\n",
    "else:\n",
    "    print('Sphericity is probably not given')"
   ]
  },
  {
   "cell_type": "code",
   "execution_count": 130,
   "metadata": {},
   "outputs": [
    {
     "data": {
      "text/html": [
       "<table class=\"simpletable\">\n",
       "<tr>\n",
       "          <td></td>         <th>F Value</th> <th>Num DF</th> <th>Den DF</th>  <th>Pr > F</th>\n",
       "</tr>\n",
       "<tr>\n",
       "  <th>condition</th>        <td>0.4458</td>  <td>1.0000</td> <td>24.0000</td> <td>0.5107</td>\n",
       "</tr>\n",
       "<tr>\n",
       "  <th>answer</th>           <td>21.9021</td> <td>1.0000</td> <td>24.0000</td> <td>0.0001</td>\n",
       "</tr>\n",
       "<tr>\n",
       "  <th>condition:answer</th> <td>0.4383</td>  <td>1.0000</td> <td>24.0000</td> <td>0.5142</td>\n",
       "</tr>\n",
       "</table>"
      ],
      "text/plain": [
       "<class 'statsmodels.iolib.summary2.Summary'>\n",
       "\"\"\"\n",
       "                    Anova\n",
       "==============================================\n",
       "                 F Value Num DF  Den DF Pr > F\n",
       "----------------------------------------------\n",
       "condition         0.4458 1.0000 24.0000 0.5107\n",
       "answer           21.9021 1.0000 24.0000 0.0001\n",
       "condition:answer  0.4383 1.0000 24.0000 0.5142\n",
       "==============================================\n",
       "\n",
       "\"\"\""
      ]
     },
     "execution_count": 130,
     "metadata": {},
     "output_type": "execute_result"
    }
   ],
   "source": [
    "# TODO: Perform a two-way repeated measures ANOVA (Pr > F = p-value)\n",
    "aovrm = AnovaRM(spatial_sorted,'time', 'subject_ID', within=['condition', 'answer'], aggregate_func = 'mean')\n",
    "fit = aovrm.fit()\n",
    "fit.summary()\n"
   ]
  },
  {
   "cell_type": "markdown",
   "metadata": {},
   "source": [
    "## Citations\n",
    "\n",
    "- Czeszumski A, Ehinger B, Wahn B, and König P (2019) The social situation affects how we process feedback about our actions. Frontiers in Psychology, 10:361. https://doi.org/10.3389/fpsyg.2019.00361"
   ]
  }
 ],
 "metadata": {
  "kernelspec": {
   "display_name": "Python 3",
   "language": "python",
   "name": "python3"
  },
  "language_info": {
   "codemirror_mode": {
    "name": "ipython",
    "version": 3
   },
   "file_extension": ".py",
   "mimetype": "text/x-python",
   "name": "python",
   "nbconvert_exporter": "python",
   "pygments_lexer": "ipython3",
   "version": "3.8.3"
  },
  "toc": {
   "base_numbering": 1,
   "nav_menu": {},
   "number_sections": false,
   "sideBar": true,
   "skip_h1_title": true,
   "title_cell": "Table of Contents",
   "title_sidebar": "Contents",
   "toc_cell": true,
   "toc_position": {
    "height": "calc(100% - 180px)",
    "left": "10px",
    "top": "150px",
    "width": "165px"
   },
   "toc_section_display": true,
   "toc_window_display": true
  },
  "toc-autonumbering": false,
  "toc-showtags": false
 },
 "nbformat": 4,
 "nbformat_minor": 4
}
