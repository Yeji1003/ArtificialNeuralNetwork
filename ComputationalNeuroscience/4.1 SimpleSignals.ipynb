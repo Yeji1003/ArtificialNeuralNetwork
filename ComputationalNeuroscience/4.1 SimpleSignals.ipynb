{
 "cells": [
  {
   "cell_type": "markdown",
   "metadata": {},
   "source": [
    "![SegmentLocal](Images_StudIP/Logo2.png)"
   ]
  },
  {
   "cell_type": "markdown",
   "metadata": {},
   "source": [
    "*Neural Time Series Data*\n",
    "# Chapter 6.1: Simple Time Series Data\n"
   ]
  },
  {
   "cell_type": "markdown",
   "metadata": {
    "toc": true
   },
   "source": [
    "<h1>Table of Contents<span class=\"tocSkip\"></span></h1>\n",
    "<div class=\"toc\"><ul class=\"toc-item\"><li><ul class=\"toc-item\"><li><span><a href=\"#Prerequisites\" data-toc-modified-id=\"Prerequisites-0.1\">Prerequisites</a></span></li><li><span><a href=\"#Scope-of-this-Chapter\" data-toc-modified-id=\"Scope-of-this-Chapter-0.2\">Scope of this Chapter</a></span></li></ul></li><li><span><a href=\"#1.-The-Math-behind-EEG-signals\" data-toc-modified-id=\"1.-The-Math-behind-EEG-signals-1\">1. The Math behind EEG signals</a></span><ul class=\"toc-item\"><li><span><a href=\"#Simple-signals\" data-toc-modified-id=\"Simple-signals-1.1\">Simple signals</a></span></li><li><span><a href=\"#1.1-Simple-Sinewave-[1,5-pt]\" data-toc-modified-id=\"1.1-Simple-Sinewave-[1,5-pt]-1.2\">1.1 Simple Sinewave [1,5 pt]</a></span></li><li><span><a href=\"#1.2-More-complex-signal-[2-pts]\" data-toc-modified-id=\"1.2-More-complex-signal-[2-pts]-1.3\">1.2 More complex signal [2 pts]</a></span></li></ul></li><li><span><a href=\"#2.-How-to-get-rid-of-unwanted-noise?\" data-toc-modified-id=\"2.-How-to-get-rid-of-unwanted-noise?-2\">2. How to get rid of unwanted noise?</a></span><ul class=\"toc-item\"><li><span><a href=\"#The-Fourier-Transform\" data-toc-modified-id=\"The-Fourier-Transform-2.1\">The Fourier Transform</a></span></li><li><span><a href=\"#2.1-Extracting-the-frequency-spectrum-with-the-FFT-[0,5-pts]\" data-toc-modified-id=\"2.1-Extracting-the-frequency-spectrum-with-the-FFT-[0,5-pts]-2.2\">2.1 Extracting the frequency spectrum with the FFT [0,5 pts]</a></span></li><li><span><a href=\"#Filtering-EEG-Data\" data-toc-modified-id=\"Filtering-EEG-Data-2.3\">Filtering EEG Data</a></span></li><li><span><a href=\"#2.2-Filtering-in-the-time-domain-vs.-filtering-in-the-frequency-domain-[5]\" data-toc-modified-id=\"2.2-Filtering-in-the-time-domain-vs.-filtering-in-the-frequency-domain-[5]-2.4\">2.2 Filtering in the time-domain vs. filtering in the frequency-domain [5]</a></span></li><li><span><a href=\"#2.2.-a)-Filter-in-the-time-domain-[3-pts]\" data-toc-modified-id=\"2.2.-a)-Filter-in-the-time-domain-[3-pts]-2.5\">2.2. a) Filter in the time domain [3 pts]</a></span></li><li><span><a href=\"#2.2-b)-Filter-in-the-frequency-domain-[2-pts]\" data-toc-modified-id=\"2.2-b)-Filter-in-the-frequency-domain-[2-pts]-2.6\">2.2 b) Filter in the frequency domain [2 pts]</a></span></li></ul></li><li><span><a href=\"#3.-BONUS:-Time-Frequency-Analysis\" data-toc-modified-id=\"3.-BONUS:-Time-Frequency-Analysis-3\">3. BONUS: Time-Frequency Analysis</a></span></li><li><span><a href=\"#Further-reading\" data-toc-modified-id=\"Further-reading-4\">Further reading</a></span></li><li><span><a href=\"#Summary:-What-you-have-learned-about-Neural-Time-Series-Data\" data-toc-modified-id=\"Summary:-What-you-have-learned-about-Neural-Time-Series-Data-5\">Summary: What you have learned about Neural Time Series Data</a></span></li></ul></div>"
   ]
  },
  {
   "cell_type": "markdown",
   "metadata": {},
   "source": [
    "### Prerequisites\n",
    "For this chapter, you should be familiar with the following concepts and techniques:\n",
    "* Basic Python programming\n",
    "* Basic Math skills (check out our tutorials section to recap your skills in Linea Algebra, Sine Waves and Euler's Formula)"
   ]
  },
  {
   "cell_type": "markdown",
   "metadata": {},
   "source": [
    "### Scope of this Chapter\n",
    "\n",
    "In this Chapter, you will learn the conceptual, mathematical, and implementational (via python programming) bases of time- and time-frequency-analysis of EEG recordings. Alternating between theoretical background knowledge and practical exercises you will learn the basics of how EEG Data is recorded, preprocessed and analysed. We will however only cover the **fundamental basics of EEG analysis**, but with this, you will then be able to dig deeper into the endless opportunities of Neural Time Series analysis.\n",
    "\n",
    "*In order to successfully complete this worksheet, make sure you watched the video **\"Analysing Neural Time Series Data\" on studIP**, which provides you with the theoretical background.*\n"
   ]
  },
  {
   "cell_type": "markdown",
   "metadata": {},
   "source": [
    "## 1. The Math behind EEG signals\n",
    "\n",
    "Before we are ready to work with real EEG data, we will first create artificial signals. This makes it much easier to understand the *maths* behind EEG signals, which in return will help you to understand the following  analysis steps a lot better.\n",
    "\n",
    "Step by step, we will make our signal more complex until it approximates *'real'* EEG data. In the next section, we will then start to use this knowledge in order to analyse EEG Data, recorded by a Neurobiopsychology research group of our institute.\n",
    "\n",
    "For the following exercises, we will use the signal processing toolbox from scipy. [This link](https://docs.scipy.org/doc/scipy/reference/signal.html) leads you to the documentation of the toolbox, where you can find almost all the functions that you need to solve the following tasks. Whenever you are working with a toolbox, I highly recommend to take some time to explore the corresponding documentation. It really helps you to make the most of all the tools it supplies!"
   ]
  },
  {
   "cell_type": "markdown",
   "metadata": {},
   "source": [
    "*For more interactive plots, uncomment the follwing line:*"
   ]
  },
  {
   "cell_type": "code",
   "execution_count": 4,
   "metadata": {
    "scrolled": true
   },
   "outputs": [],
   "source": [
    "%matplotlib qt5 "
   ]
  },
  {
   "cell_type": "code",
   "execution_count": 5,
   "metadata": {},
   "outputs": [],
   "source": [
    "import matplotlib.pyplot as plt\n",
    "import numpy as np\n",
    "import random\n",
    "from scipy import signal"
   ]
  },
  {
   "cell_type": "markdown",
   "metadata": {},
   "source": [
    "### Simple signals"
   ]
  },
  {
   "cell_type": "markdown",
   "metadata": {},
   "source": [
    "One of the key concepts you need in order to understand the *maths* behind oscillatory signals (like neural signals in EEG) is the **sine wave**. Here you can find a short overview of the parameters that define a sine wave (more details have been covered in the video \"Analysing Neural Time Series Data\" in Chapter 6.1. on studIP). \n",
    "\n",
    "\n",
    "<span style=color:#1F618D;font-size:11pt>→ If you need to catch up a little on the maths, [here](https://www.youtube.com/watch?v=F21S9Wpi0y8&t=200s) is a very good recap-tutorial on trigonometry.</span>"
   ]
  },
  {
   "cell_type": "markdown",
   "metadata": {},
   "source": [
    "![SineUrl](https://media.giphy.com/media/U6prF59vkch44/giphy.gif \"Sine\")"
   ]
  },
  {
   "cell_type": "markdown",
   "metadata": {},
   "source": [
    "![SegmentLocal2](Images_StudIP/sinewave.jpg)"
   ]
  },
  {
   "cell_type": "markdown",
   "metadata": {},
   "source": [
    "With the parameters of ```amplitude```,```frequency``` and ```phase```($\\theta$), a sine wave can be described by the following formula:\n",
    "\n",
    "$$Asin(2*\\pi ft + \\theta)$$"
   ]
  },
  {
   "cell_type": "markdown",
   "metadata": {},
   "source": [
    "### 1.1 Simple Sinewave [1,5 pt]\n",
    "With this information, we are now ready to create a simple signal as a combination of two sinusoids. \n",
    "\n",
    "For this:  \n",
    "- Define a time scale of 1 second, i.e. 1000ms\n",
    "- Create two sinewaves with a length of 1s: one with a frequency of 10Hz and one with 20Hz (*for simplicity, we will for now ignore amplitude and phase, they will be used in the next step though*)\n",
    "- Add them together to create your first simple signal\n",
    "- Create a plot for each of the sinusoids"
   ]
  },
  {
   "cell_type": "code",
   "execution_count": 6,
   "metadata": {},
   "outputs": [
    {
     "data": {
      "text/plain": [
       "Text(0.5, 1.0, 'Signal composed of 10 and 20 Hz Sinusoids')"
      ]
     },
     "execution_count": 6,
     "metadata": {},
     "output_type": "execute_result"
    }
   ],
   "source": [
    "# ToDo\n",
    "t = np.linspace(0, 1, 1000, False)\n",
    "sin1 = np.sin(2*np.pi*10*t) # 10Hz\n",
    "sin2 = np.sin(2*np.pi*20*t) # 20Hz\n",
    "sig = sin1 + sin2\n",
    "\n",
    "# plot all three figures\n",
    "fig, axes = plt.subplots(nrows = 3, ncols = 1, sharex = True, figsize = (12, 8))\n",
    "fig.add_subplot(111, frameon = False)\n",
    "\n",
    "plt.tick_params(labelcolor = 'None', top = False, bottom = False, left = False, right = False)\n",
    "plt.xlabel('Time [ms]',fontsize = 12)\n",
    "plt.ylabel('Amplitude',fontsize = 12)\n",
    "plt.subplots_adjust(hspace=0.2)\n",
    "\n",
    "axes[0].plot(t, sin1)\n",
    "axes[0].set_title('10 Hz sinusoid', fontsize = 14)\n",
    "axes[1].plot(t, sin2)\n",
    "axes[1].set_title('20 Hz sinusoid', fontsize = 14)\n",
    "axes[2].plot(t, sig)\n",
    "axes[2].set_title('Signal composed of 10 and 20 Hz Sinusoids', fontsize = 14)\n"
   ]
  },
  {
   "cell_type": "markdown",
   "metadata": {},
   "source": [
    "<span style=color:#1F618D;font-weight:bold;font-size:11pt>Q1: Is the resulting signal symmetrical?</span>\n"
   ]
  },
  {
   "cell_type": "markdown",
   "metadata": {},
   "source": [
    "### 1.2 More complex signal [2 pts]\n",
    "\n",
    "As a next step, we want to achieve something more 'complex'.\n",
    "\n",
    "For this, we select a list of frequencies, that we want our signal to be composed of, and define their amplitudes and phases. The exact values that you should use for this are already predefined.\n",
    "With the help of these parameters:\n",
    "- Create a new, a bit more complex signal by combining the resulting sinusoids (you should get 5 sinusoids with the respective ```frequ```, ```amplit``` and ```phase```)\n",
    "- To make it more realistic, create some random Gaussian noise with the same length and add it to your signal\n",
    "- Then plot both, the clean and the noisy signal\n",
    "\n",
    "The Nyquist Frequency ```nyq``` given below results from  <span style=color:#7D6608;font-weight:bold;font-size:11pt>the Nyquist Sampling Theorem</span> which was mentioned in the intro-video:\n",
    "\n",
    "\n",
    "<div class=\"alert alert-block alert-warning\">\n",
    "<b>The Nyquist Sampling Theorem states:</b> In order to prevent distortions of the underyling information, the minimum sampling frequency of a signal (in our case 1000Hz) should be double the frequency of its highest frequency component (i.e. 500Hz).\n",
    "</div>\n"
   ]
  },
  {
   "cell_type": "code",
   "execution_count": 7,
   "metadata": {},
   "outputs": [],
   "source": [
    "# set parameters:\n",
    "srate = 1000 # define sampling rate (signal length = 1s)\n",
    "nyq = srate/2 #nyquist frequency\n",
    "frex = [3, 10, 5, 15, 35, 60] # define a list of frequencies\n",
    "amplit = [5, 15, 10, 5, 7, 1] # define their amplitudes\n",
    "phases = [np.pi/7, np.pi/8, np.pi, np.pi/2, -np.pi/4, np.pi/3] # and their respective phases"
   ]
  },
  {
   "cell_type": "code",
   "execution_count": 8,
   "metadata": {},
   "outputs": [
    {
     "name": "stdout",
     "output_type": "stream",
     "text": [
      "[array([1, 2]), array([3, 4]), array([5, 6])]\n"
     ]
    },
    {
     "data": {
      "text/plain": [
       "numpy.ndarray"
      ]
     },
     "execution_count": 8,
     "metadata": {},
     "output_type": "execute_result"
    }
   ],
   "source": [
    "a = [np.array([1,2]),np.array([3,4]),np.array([5,6])]\n",
    "print(a)\n",
    "type(sum(a))"
   ]
  },
  {
   "cell_type": "code",
   "execution_count": 9,
   "metadata": {},
   "outputs": [
    {
     "data": {
      "text/plain": [
       "Text(0.5, 1.0, 'Noisy signal')"
      ]
     },
     "execution_count": 9,
     "metadata": {},
     "output_type": "execute_result"
    }
   ],
   "source": [
    "# ToDo\n",
    "# 1. create signal\n",
    "\n",
    "t = np.linspace(0, 1, 1000, False)\n",
    "sig = []\n",
    "\n",
    "for i in range(len(frex)):\n",
    "    sine = amplit[i] * np.sin(2*frex[i]*t*np.pi + phases[i])\n",
    "    sig.append(sine)\n",
    "\n",
    "\n",
    "# 2. add some random noise\n",
    "# info: the second paramter defines the size of your noise\n",
    "noise = np.random.normal(0, 2.0, 1000)\n",
    "\n",
    "signal_final = sum(sig)\n",
    "signal_noisy = sum(sig) + noise\n",
    "\n",
    "# 3. plot both figures (signal with and without noise)\n",
    "\n",
    "fig, axes = plt.subplots(nrows = 2, ncols = 1, sharex = True, figsize = (15, 8))\n",
    "fig.add_subplot(111, frameon = False)\n",
    "plt.tick_params(labelcolor = 'none', top = False, bottom = False, left = False, right = False)\n",
    "plt.xlabel('Time [s]', fontsize = 12)\n",
    "plt.ylabel('Amplitude', fontsize = 12)\n",
    "\n",
    "axes[0].plot(t, signal_final)\n",
    "axes[0].set_title('Signal without noise', fontsize = 14)\n",
    "axes[1].plot(t, signal_noisy)\n",
    "axes[1].set_title('Noisy signal', fontsize = 14)\n"
   ]
  },
  {
   "cell_type": "markdown",
   "metadata": {},
   "source": [
    " <span style=color:#1F618D;font-weight:bold;font-size:11pt>Q1: Does the noisy signal show a higher amplitude than the clean one? </span>\n",
    " \n",
    " <span style=color:#1F618D;font-weight:bold;font-size:11pt>Q2: At approximately what time-points can you see the maxima of your signal?</span>"
   ]
  },
  {
   "cell_type": "markdown",
   "metadata": {},
   "source": [
    "In reality, your EEG signal is roughly based on the same components: it typically contains a mixture of simultaneous neural oscillations at different frequencies plus some noise. This noise can be non-neural (caused by line noise or muscle activity); but also neural oscillations that are not of your interest can be considered as 'noise'. In order to be able do your analysis as \"clean\" as possible, you want to isolate only the part of the signal that you are interested in, thereby increasing the **signal-to-noise-ratio (SNR)** of your signal (see intro-video). A way to do this, is by filtering your data - this will be the focus of the following exercises."
   ]
  },
  {
   "cell_type": "markdown",
   "metadata": {},
   "source": [
    "## 2. How to get rid of unwanted noise?"
   ]
  },
  {
   "cell_type": "markdown",
   "metadata": {},
   "source": [
    "### The Fourier Transform"
   ]
  },
  {
   "cell_type": "markdown",
   "metadata": {},
   "source": [
    "Before telling you more about how EEG data can be filtered, you need to learn about the **Fourier Transform (FT)**, which is a really useful mathematical tool for EEG time series data; with its help we can separate the different frequency components that compose our signal and thus get rid of unwanted frequencies. This finally enables us to separate the noise components from our signal via filtering techniques. For this, watch the following video by 3Blue1Brown. It is a good intro to the Fourier Transform, giving you a really intuition about what it does."
   ]
  },
  {
   "cell_type": "code",
   "execution_count": 10,
   "metadata": {},
   "outputs": [
    {
     "data": {
      "image/jpeg": "[encoded data removed]",
      "text/html": [
       "\n",
       "        <iframe\n",
       "            width=\"400\"\n",
       "            height=\"300\"\n",
       "            src=\"https://www.youtube.com/embed/spUNpyF58BY\"\n",
       "            frameborder=\"0\"\n",
       "            allowfullscreen\n",
       "        ></iframe>\n",
       "        "
      ],
      "text/plain": [
       "<IPython.lib.display.YouTubeVideo at 0x1eeca6dd670>"
      ]
     },
     "execution_count": 10,
     "metadata": {},
     "output_type": "execute_result"
    }
   ],
   "source": [
    "from IPython.lib.display import YouTubeVideo\n",
    "YouTubeVideo('spUNpyF58BY')"
   ]
  },
  {
   "cell_type": "markdown",
   "metadata": {},
   "source": [
    "<span style=color:#1F618D;font-size:11pt>→ If you want to have a more thorough, EEG-based intro, [here](https://www.youtube.com/watch?v=lZ7y7pEAJcU&list=PLn0OLiymPak28kNU6D_nkUBebb5LRj3E5) is a very good playlist by Mike X. Cohen.</span>"
   ]
  },
  {
   "cell_type": "markdown",
   "metadata": {},
   "source": [
    "### 2.1 Extracting the frequency spectrum with the FFT [0,5 pts]\n",
    "Now we are ready to apply the **fast Fourier Transform** [```fft.fft()```](https://docs.scipy.org/doc/numpy/reference/generated/numpy.fft.fft.html) on our signals, in order to get its frequency spectrum. Since we created the signal on our own, we can check whether it shows all the frequencies that we used to compose it. \n",
    "* We will have to compute the frequency spectrum several times, therefore it is useful to write a proper function that can compute the fourier transform of any signal. \n",
    "* Then apply and plot the FFT of the noisy signal from 1.2. You will see a lot more, if you limit your x-axis to 100, since we are not interested in higher frequencies anyway.\n",
    "\n",
    "\n",
    "If you look at the amplitudes, you will realize that they are half the amplitudes that we predefined when creating the signal. This happens because we are only taking the absolute values of the FT-frequencies. \n",
    "\n",
    "<span style=color:#1F618D;font-size:11pt>→ In case you want to have a proper explanation for why this is the case, watch [this video!](https://www.youtube.com/watch?v=Nupda1rm01Y)</span>"
   ]
  },
  {
   "cell_type": "code",
   "execution_count": 17,
   "metadata": {},
   "outputs": [],
   "source": [
    "def getFT(sig):\n",
    "    \n",
    "    # ToDo\n",
    "    # compute fft\n",
    "    n = len(sig)\n",
    "    FFT = np.fft.fft(sig)\n",
    "    FFT = np.abs(FFT) # why abs?\n",
    "    \n",
    "    \n",
    "    return FFT"
   ]
  },
  {
   "cell_type": "code",
   "execution_count": 20,
   "metadata": {
    "scrolled": true
   },
   "outputs": [
    {
     "data": {
      "text/plain": [
       "(0.0, 100.0)"
      ]
     },
     "execution_count": 20,
     "metadata": {},
     "output_type": "execute_result"
    }
   ],
   "source": [
    "# compute and plot FFT of the noisy signal\n",
    "frequencies = getFT(signal_noisy)\n",
    "N = int(len(signal_noisy))\n",
    "plt.plot(frequencies[:N]/len(signal_noisy))\n",
    "plt.suptitle('Fourier Transform of the Signal')\n",
    "plt.title('Frequencies {} plus random Gaussian noise'.format(frex), fontsize = 8)\n",
    "plt.xlim(0, 100)\n",
    "plt.xlabel('Frequ(Hz)')\n",
    "plt.ylabel('Amplitude')\n",
    "\n",
    "plt.show()\n",
    "\n"
   ]
  },
  {
   "cell_type": "markdown",
   "metadata": {},
   "source": [
    "<span style=color:#1F618D;font-weight:bold;font-size:11pt>Q1: If you look at the higher frequencies (> 60Hz), are their amplitudes equal to zero? Why is this? </span>"
   ]
  },
  {
   "cell_type": "code",
   "execution_count": 22,
   "metadata": {},
   "outputs": [
    {
     "data": {
      "text/plain": [
       "1000"
      ]
     },
     "execution_count": 22,
     "metadata": {},
     "output_type": "execute_result"
    }
   ],
   "source": [
    "int(len(signal_noisy))"
   ]
  },
  {
   "cell_type": "markdown",
   "metadata": {},
   "source": [
    "### Filtering EEG Data"
   ]
  },
  {
   "cell_type": "markdown",
   "metadata": {},
   "source": [
    "Now that we have learned about the fundamental basics of EEG and the magic behind the Fourier Transform, we will have a short look into how EEG data is filtered, i.e. how we can improve the ratio between signal and noise in our data. This knowledge will be important for the second half of the Notebook.\n",
    "\n",
    "*Note that this video will only work, if you have the folder \"Videos_ACC\" in the same folder as this notebook!*"
   ]
  },
  {
   "cell_type": "code",
   "execution_count": 83,
   "metadata": {
    "code_folding": [
     0
    ]
   },
   "outputs": [
    {
     "data": {
      "text/html": [
       "<div align=\"middle\">\n",
       "<video width=\"80%\" controls>\n",
       "      <source src=\"Videos_StudIP/Filtering_Intro.m4v\" type=\"video/mp4\">\n",
       "</video></div>\n"
      ],
      "text/plain": [
       "<IPython.core.display.HTML object>"
      ]
     },
     "metadata": {},
     "output_type": "display_data"
    }
   ],
   "source": [
    "%%HTML\n",
    "<div align=\"middle\">\n",
    "<video width=\"80%\" controls>\n",
    "      <source src=\"Videos_StudIP/Filtering_Intro.m4v\" type=\"video/mp4\">\n",
    "</video></div>"
   ]
  },
  {
   "cell_type": "code",
   "execution_count": 23,
   "metadata": {
    "code_folding": [
     0,
     2
    ]
   },
   "outputs": [
    {
     "data": {
      "text/html": [
       "<div align=\"middle\">\n",
       "<video width=\"80%\" controls>\n",
       "      <source src=\"https://video4.virtuos.uni-osnabrueck.de/static/mh_default_org/engage-player/2c8dcd4e-52ca-4d95-9e9a-0368f4dc879b/644f20f6-6efb-4fde-93f3-3926227c1cc4/Filtering_Intro.mp4?cid=1442f39ad2b95c7dee8a7641faf015d9\" type=\"video/mp4\">\n",
       "</video></div>\n"
      ],
      "text/plain": [
       "<IPython.core.display.HTML object>"
      ]
     },
     "metadata": {},
     "output_type": "display_data"
    }
   ],
   "source": [
    "%%HTML\n",
    "<div align=\"middle\">\n",
    "<video width=\"80%\" controls>\n",
    "      <source src=\"https://video4.virtuos.uni-osnabrueck.de/static/mh_default_org/engage-player/2c8dcd4e-52ca-4d95-9e9a-0368f4dc879b/644f20f6-6efb-4fde-93f3-3926227c1cc4/Filtering_Intro.mp4?cid=1442f39ad2b95c7dee8a7641faf015d9\" type=\"video/mp4\">\n",
    "</video></div>"
   ]
  },
  {
   "cell_type": "markdown",
   "metadata": {},
   "source": [
    "### 2.2 Filtering in the time-domain vs. filtering in the frequency-domain [5]  \n",
    "\n",
    "In this part, we will learn about the two ways a filter can be applied to your data. Usually, you only filter in the frequency domain since this is computationally a lot faster. Yet, it is really useful to understand both procedures in order to understand the concept of filtering. In the video about filtering you already got a first impression of filtering in the frequency domain. In order to better understand its time-domain equivalent, you need to first learn about the process of convolution, i.e. the (mathematical) procedure of applying your filter to your data in the time domain:\n",
    "\n",
    "<div class=\"alert alert-block alert-success\">\n",
    "<b>Convolution:</b> Convolution is used to isolate frequency-band-specific activity and to localize that frequency-band-specific activity in time.  \n",
    "This is done by <b>convolving wavelets— time-limited sine waves—with EEG data.</b> As the wavelet (i.e. the convolution kernel) is dragged along the EEG data (the convolution signal): it reveals when and to what extent the EEG data contain features that look like the wavelet. When convolution is repeated on the same EEG data using wavelets of different frequencies, a time-frequency representation can be formed.\"\n",
    "\n",
    "<span style=font-style:italic>(Mike X Cohen, \"Analyzing Neural Time Series Data: Theory and Practice\"</span>\n",
    "</div>\n",
    "\n",
    "<div class=\"alert alert-block alert-success\">\n",
    "<b>Convolution theorem:</b> Convolution in the time domain is the same as multiplication in the frequency domain.  \n",
    "</div>\n",
    "\n",
    "\n",
    "![SegmentLocal](Images_StudIP/Convolution_Theorem.png)\n",
    "\n",
    "<span style=color:#1F618D;font-size:11pt>→ If you want a more thorough explanation of convolution, I can highly recommend [this video](http://mikexcohen.com/lectures.html) by Mike X Cohen.</span>\n"
   ]
  },
  {
   "cell_type": "markdown",
   "metadata": {},
   "source": [
    "### 2.2. a) Filter in the time domain [3 pts]\n",
    "According to the figure above, in order to filter our signal in the time domain, we use a windowed sinewave as a filter-kernel. The windowing helps to obtain **temporally localized frequency information**. We then convolve this wavelet with our signal, extracting the frequency bands that we want to work with. \n",
    "- First define your pass-band as 25Hz. Ideally everything above this frequency is filtered out; in reality however, we need a transition band of about 10 Hz, or a region between the pass-frequency ```f_p``` and stop-frequency ```f_s```. In this range, frequencies are only attenuated instead completely excluded. This is necessary in order to account for the trade-off between precision in the frequency-domain and precision in the time-domain (see video).\n",
    "- Next, we define the gains of each frequency band: everything outside 0 and our pass-band of 25Hz should be attenuated, i.e. have a gain close to 0.\n",
    "- Using the function [```firwin2()```](https://docs.scipy.org/doc/scipy-0.14.0/reference/generated/scipy.signal.firwin2.html) of the signal package and the parameters from above, we can now construct our filter-kernel ```h_win``` (the result should be a wavelet with a length of 0.6 seconds) \n",
    "- Plot your kernel as well as its frequency spectrum. It should look like a step-function, that assigns a gain of 1 to all frequencies in our pass-band between 0 - 25Hz.\n",
    "\n",
    "Tip: Play around with your the parameters of your filter (e.g. the filter's duration, its transition bandwidth or its stop- and passband) and see how the plots change. You can also proceed with the whole filtering process and check out what different filters do to your data. This way, you can properly understand how the different parameters are finally affecting you data."
   ]
  },
  {
   "cell_type": "code",
   "execution_count": 27,
   "metadata": {
    "code_folding": []
   },
   "outputs": [
    {
     "ename": "ModuleNotFoundError",
     "evalue": "No module named 'mne'",
     "output_type": "error",
     "traceback": [
      "\u001b[1;31m---------------------------------------------------------------------------\u001b[0m",
      "\u001b[1;31mModuleNotFoundError\u001b[0m                       Traceback (most recent call last)",
      "\u001b[1;32m<ipython-input-27-a1c7a6f07a9b>\u001b[0m in \u001b[0;36m<module>\u001b[1;34m\u001b[0m\n\u001b[0;32m     34\u001b[0m \u001b[0mplt\u001b[0m\u001b[1;33m.\u001b[0m\u001b[0mshow\u001b[0m\u001b[1;33m(\u001b[0m\u001b[1;33m)\u001b[0m\u001b[1;33m\u001b[0m\u001b[1;33m\u001b[0m\u001b[0m\n\u001b[0;32m     35\u001b[0m \u001b[1;33m\u001b[0m\u001b[0m\n\u001b[1;32m---> 36\u001b[1;33m \u001b[1;32mimport\u001b[0m \u001b[0mmne\u001b[0m\u001b[1;33m\u001b[0m\u001b[1;33m\u001b[0m\u001b[0m\n\u001b[0m\u001b[0;32m     37\u001b[0m \u001b[0mflim\u001b[0m \u001b[1;33m=\u001b[0m \u001b[1;33m(\u001b[0m\u001b[1;36m1.\u001b[0m\u001b[1;33m,\u001b[0m \u001b[0mnyq\u001b[0m\u001b[1;33m)\u001b[0m\u001b[1;33m\u001b[0m\u001b[1;33m\u001b[0m\u001b[0m\n\u001b[0;32m     38\u001b[0m \u001b[0mmne\u001b[0m\u001b[1;33m.\u001b[0m\u001b[0mviz\u001b[0m\u001b[1;33m.\u001b[0m\u001b[0mplot_filter\u001b[0m\u001b[1;33m(\u001b[0m\u001b[0mh_win\u001b[0m\u001b[1;33m,\u001b[0m \u001b[0msrate\u001b[0m\u001b[1;33m,\u001b[0m \u001b[0mfreq\u001b[0m\u001b[1;33m,\u001b[0m \u001b[0mgain\u001b[0m\u001b[1;33m,\u001b[0m \u001b[1;34m'Windowed 10 Hz transition ({} s)'\u001b[0m\u001b[1;33m.\u001b[0m\u001b[0mformat\u001b[0m\u001b[1;33m(\u001b[0m\u001b[0mfilter_duration\u001b[0m\u001b[1;33m)\u001b[0m\u001b[1;33m,\u001b[0m\u001b[0mflim\u001b[0m\u001b[1;33m=\u001b[0m\u001b[0mflim\u001b[0m\u001b[1;33m,\u001b[0m \u001b[0mcompensate\u001b[0m\u001b[1;33m=\u001b[0m\u001b[1;32mTrue\u001b[0m\u001b[1;33m)\u001b[0m\u001b[1;33m\u001b[0m\u001b[1;33m\u001b[0m\u001b[0m\n",
      "\u001b[1;31mModuleNotFoundError\u001b[0m: No module named 'mne'"
     ]
    }
   ],
   "source": [
    "# ToDo\n",
    "# Create a Low-pass Filter: Windowed 10-Hz transition (0.6 sec)\n",
    "\n",
    "# 1. Define Filtering paramteres\n",
    "filter_duration = 0.5\n",
    "n = int(round(srate * filter_duration)+1) #n = sfrequ * filter_duration\n",
    "f_p = 25.\n",
    "trans_bandwidth = 0.25 * f_p # 10 Hz transition band\n",
    "f_s = f_p + trans_bandwidth # stopband = 40 Hz\n",
    "\n",
    "# define gains of each frequency band\n",
    "freq = [0., f_p, f_s, nyq]\n",
    "gain = [1., 1., 0., 0.]\n",
    "\n",
    "# 2. Compute filter graph\n",
    "h_win = signal.firwin2(n, freq, gain, nyq=nyq)\n",
    "\n",
    "fig, (ax1, ax2) = plt.subplots(2, 1, figsize=(10,8))\n",
    "plt.subplots_adjust(hspace=0.5)\n",
    "time =  np.linspace(-1, 1, len(h_win))\n",
    "\n",
    "# 3. Compute freqeuncy spectrum of the filter\n",
    "frequencies = getFT(h_win)\n",
    "\n",
    "# 4. Plot filter in time and in frequency domain\n",
    "ax1.plot(time, h_win)\n",
    "ax1.set_title('Filter Coefficients')\n",
    "ax1.set_xlabel('Time [s]')\n",
    "ax2.plot(frequencies[:100])\n",
    "ax2.set_title('Frequency Response')\n",
    "ax2.set_ylabel('Gain')\n",
    "ax2.set_xlabel('Frequency [Hz]')\n",
    "\n",
    "plt.show()\n",
    "\n"
   ]
  },
  {
   "cell_type": "markdown",
   "metadata": {},
   "source": [
    "<span style=color:#1F618D;font-weight:bold;font-size:11pt>Q1: In which frequency band is the gain of your frequency response not equal to 0 or 1? </span>\n",
    "\n",
    "<span style=color:#1F618D;font-weight:bold;font-size:11pt>Q2: Does your filter kernel show more than one peak?</span>\n",
    " \n",
    " "
   ]
  },
  {
   "cell_type": "markdown",
   "metadata": {},
   "source": [
    "Now we are ready to convolve our signal with our self-constructed FIR filter ```h_win```. \n",
    "- For this, we use the [```convolve()```](https://docs.scipy.org/doc/scipy/reference/generated/scipy.signal.convolve.html) function of the *signal* package. \n",
    "- Then plot both, the filtered and the unfiltered signal in order to see the effect of your filter.\n",
    "- Aftwards, we want to test in the frequency-spectrum of our signal whether our filter successfully attenuated the frequency-components above 25Hz. For this: compute and plot the FT of both, the filtered and the unfiltered signal. \n",
    "- In order to compare which filtering procedure is faster, record the computation-time of the time-domain convolution with the help of the magic function [```%timeit```](https://docs.python.org/2/library/timeit.html) (you will have to write an extra line for this)."
   ]
  },
  {
   "cell_type": "code",
   "execution_count": null,
   "metadata": {},
   "outputs": [],
   "source": [
    "# ToDo\n",
    "# 1. Convolve signal with the filter\n",
    "\n",
    "conv_td = \n",
    "\n",
    "# 2. Plot filtered and unfiltered signal\n",
    "\n",
    "# 3. Compute and plot frequency spectrum of the filtered and the unfiltered signal \n",
    "\n",
    "# 3. Calculate computation time\n"
   ]
  },
  {
   "cell_type": "markdown",
   "metadata": {},
   "source": [
    "<span style=color:#1F618D;font-weight:bold;font-size:11pt> Q1: As you can see, frequencies between 25 and 40Hz are not completely attenuated and at 35Hz there is still a small bumb visible in the frequency spectrum. Why is this? </span> "
   ]
  },
  {
   "cell_type": "markdown",
   "metadata": {},
   "source": [
    "### 2.2 b) Filter in the frequency domain [2 pts]\n",
    "Filtering in the frequency domain is computationally much faster and easier. According to the convolution theorem (see above):\n",
    "- Multiply the frequency-spectrum of our filter-kernel with the frequency-spectrum of our signal.\n",
    "- In order to compare the filtered and the unfiltered signal, first compute the inverse Fourier-Transform of your filtering result and then plot both signals (unfiltered and filtered) in one plot.  \n",
    "\n",
    "<div class=\"alert alert-block alert-warning\">\n",
    "<b>Note:</b> So far, every time we applied the fourier transform (FT) to our signal, we only used the absolute values of the FT-result, because this was what we were interested in. To visualize what that means, just plot the FT of any of our signals with and without the abs()-function. For the inverse FT to work porperly however, we need the \"whole\" result of the FT, which is why we omit the abs() function this time.\n",
    "</div>\n",
    "\n",
    "- In a second plot, compare your result from filtering in the frequency domain with your convolution result in the time domain (from 2.2 a). According to the Convolution Theorem, both curves should look exactly the same!\n",
    "\n",
    "- In order to compare which filtering procedure is faster, again record the computation-time of the frequency-domain filtering with the help of the magic function [```%timeit```](https://docs.python.org/2/library/timeit.html). Compare the result to the computation time of the time-domain convolution. Which one is faster?"
   ]
  },
  {
   "cell_type": "code",
   "execution_count": null,
   "metadata": {},
   "outputs": [],
   "source": [
    "# 1. Compute lengths of the result\n",
    "# in order to make the inverse FFT return the correct number of time points:\n",
    "# make sure to compute the FFTs of the signal and the kernel using the appropriate number of time points \n",
    "# in other words, the length of the signal (=srate = 1000) plus the length of the kernel (= 601)  minus one (= 1600)\n",
    "nsignal = len(signal_noisy)\n",
    "nkernel = len(h_win)\n",
    "print(nsignal, nkernel)\n",
    "nconv = nsignal + nkernel -1\n",
    "halfk = np.floor(nkernel/2)\n",
    "\n",
    "# ToDo\n",
    "# 2. Compute FT of the kernel and the signal\n",
    "h_winX = \n",
    "signalX = \n",
    "\n",
    "# 3. Multiply frequecies\n",
    "conv_fd = \n",
    "\n",
    "# 4. Compute inverse FT (convert frequency-domain into time-domain)\n",
    "conv_fd_tme = \n",
    "\n",
    "# 5. Cut the signal to original length\n",
    "\n",
    "# 6. Plot both signals (unfiltered and filtered) in one plot"
   ]
  },
  {
   "cell_type": "code",
   "execution_count": null,
   "metadata": {},
   "outputs": [],
   "source": [
    "# 7. Plot results of filtering in the frequency domain and filtering in the time domain\n"
   ]
  },
  {
   "cell_type": "code",
   "execution_count": null,
   "metadata": {},
   "outputs": [],
   "source": [
    "# 8. calculate computation time\n",
    "filtering_fd_time = get_ipython().run_line_magic('timeit', \"conv_fd = h_winX*signalX\")"
   ]
  },
  {
   "cell_type": "markdown",
   "metadata": {},
   "source": [
    "## 3. BONUS: Time-Frequency Analysis"
   ]
  },
  {
   "cell_type": "markdown",
   "metadata": {},
   "source": [
    "FT alone does not describe the signal perfectly. For non-stationary signals (like EEG), we are interested in the evoked response of the brain. FT alone will not show us that.  Hence, we rely on Time-Frequency Analysis in order to understand the temporal structure of the different frequencies in the signal. **Spectrograms** will do the trick! It shows us how much of each frequency compoment was present at a specific time point.\n",
    "- Plot the spectogram of the noisy signal using the simple function [```plt.specgram()```](https://matplotlib.org/3.1.1/api/_as_gen/matplotlib.pyplot.specgram.html)."
   ]
  },
  {
   "cell_type": "code",
   "execution_count": 1,
   "metadata": {},
   "outputs": [],
   "source": [
    "# Todo\n",
    "# Plot simple spectogram of the noisy signal"
   ]
  },
  {
   "cell_type": "markdown",
   "metadata": {},
   "source": [
    "## Further reading\n",
    "In case you want to learn more about EEG processing, I highly recommend the following books:\n",
    "- Cohen, M. X. (2014). *Analyzing neural time series data: Theory and practice*. MIT press.\n",
    "- Luck, S. J. (2014). *An introduction to the event-related potential technique, second edition*. Cambridge, Massachusetts: The MIT Press."
   ]
  },
  {
   "cell_type": "markdown",
   "metadata": {},
   "source": [
    "## Summary: What you have learned about Neural Time Series Data\n",
    "Congratulations, you've mastered the first chapter about neural time series data analysis!\n",
    "\n",
    "In this chapter you have learned:\n",
    "- The basic mathematical concepts behind EEG signals\n",
    "- How to first create an artificial signal and then decompose it into its parts with the Fourier Transform\n",
    "- How to apply this knowledge to the different filtering procedures, creating your own filter-kernel and then playing around with its parameters\n",
    "- How to filter your data in the frequency and the time domain and thereby smoothly move between the two spheres"
   ]
  }
 ],
 "metadata": {
  "kernelspec": {
   "display_name": "Python 3",
   "language": "python",
   "name": "python3"
  },
  "language_info": {
   "codemirror_mode": {
    "name": "ipython",
    "version": 3
   },
   "file_extension": ".py",
   "mimetype": "text/x-python",
   "name": "python",
   "nbconvert_exporter": "python",
   "pygments_lexer": "ipython3",
   "version": "3.8.3"
  },
  "toc": {
   "base_numbering": 1,
   "nav_menu": {},
   "number_sections": false,
   "sideBar": true,
   "skip_h1_title": true,
   "title_cell": "Table of Contents",
   "title_sidebar": "Contents",
   "toc_cell": true,
   "toc_position": {
    "height": "calc(100% - 180px)",
    "left": "10px",
    "top": "150px",
    "width": "165px"
   },
   "toc_section_display": true,
   "toc_window_display": true
  },
  "toc-autonumbering": false,
  "toc-showtags": false
 },
 "nbformat": 4,
 "nbformat_minor": 4
}
